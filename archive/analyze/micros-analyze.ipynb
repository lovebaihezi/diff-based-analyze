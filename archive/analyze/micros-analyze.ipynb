{
 "cells": [
  {
   "cell_type": "markdown",
   "id": "899a88aa-470b-49c1-9056-828a8c85457b",
   "metadata": {},
   "source": [
    "> Init Deps"
   ]
  },
  {
   "cell_type": "code",
   "execution_count": 3,
   "id": "95126306-6b4f-47c8-9ff0-cb83378e4f15",
   "metadata": {},
   "outputs": [],
   "source": [
    "using Plots\n",
    "using DataFrames\n",
    "using JSONTables\n",
    "using JSON3"
   ]
  },
  {
   "cell_type": "markdown",
   "id": "c35b5349-ce31-4890-ab47-5a4341959bd0",
   "metadata": {},
   "source": [
    "# Analyze on LLM result from micros benchmarks\n",
    "\n",
    "## Init Datasets"
   ]
  },
  {
   "cell_type": "code",
   "execution_count": 32,
   "id": "5ceec9bf-f783-4d5f-ba8f-b232b9319d7c",
   "metadata": {
    "scrolled": true
   },
   "outputs": [
    {
     "ename": "LoadError",
     "evalue": "ArgumentError: row insertion with `cols` equal to `:setequal` requires `row` to have the same number of elements as the number of columns in `df`.",
     "output_type": "error",
     "traceback": [
      "ArgumentError: row insertion with `cols` equal to `:setequal` requires `row` to have the same number of elements as the number of columns in `df`.",
      "",
      "Stacktrace:",
      " [1] _row_inserter!(df::DataFrame, loc::Int64, row::JSON3.Object{Base.CodeUnits{UInt8, String}, Vector{UInt64}}, mode::Val{:push}, cols::Symbol, promote::Bool, nrows::Int64)",
      "   @ DataFrames ~/.julia/packages/DataFrames/58MUJ/src/dataframe/insertion.jl:928",
      " [2] push!(df::DataFrame, row::JSON3.Object{Base.CodeUnits{UInt8, String}, Vector{UInt64}})",
      "   @ DataFrames ~/.julia/packages/DataFrames/58MUJ/src/dataframe/insertion.jl:774",
      " [3] (::var\"#53#54\")(micros::IOStream)",
      "   @ Main ./In[32]:6",
      " [4] open(f::var\"#53#54\", args::String; kwargs::@Kwargs{})",
      "   @ Base ./io.jl:396",
      " [5] open(f::Function, args::String)",
      "   @ Base ./io.jl:393",
      " [6] top-level scope",
      "   @ In[32]:1"
     ]
    }
   ],
   "source": [
    "df = open(\"../micros.3.log\") do micros\n",
    "    df = DataFrame()\n",
    "    for json_str in eachline(micros)\n",
    "        json_data = JSON3.read(json_str)\n",
    "        if haskey(json_data, \"cweID\")\n",
    "            push!(df, json_data)\n",
    "        end\n",
    "    end\n",
    "    df = df[:, [\"fileName\", \"codeWithIssue\", \"cweID\"]]\n",
    "    df\n",
    "end"
   ]
  },
  {
   "cell_type": "markdown",
   "id": "022ad5f5-d8d3-4c81-8685-586f48ad5e52",
   "metadata": {},
   "source": [
    "## What do we want to get\n",
    "\n",
    "1. Overall CWE it found\n",
    "2. CWE Count\n",
    "3. CWE real exists\n",
    "4. Double check by other GPT again\n",
    "5. CWE exists in each repo\n",
    "6. Real CWE\n",
    "7. real CWE / CWE in each repo"
   ]
  },
  {
   "cell_type": "code",
   "execution_count": 19,
   "id": "fd18f486-dece-4360-b95b-0b85bf844e57",
   "metadata": {
    "scrolled": true
   },
   "outputs": [
    {
     "name": "stdout",
     "output_type": "stream",
     "text": [
      "3483 / 5217"
     ]
    }
   ],
   "source": [
    "counts = nrow(df)\n",
    "pattern = r\"CWE-\\d+\"\n",
    "cwes = filter(row -> !ismissing(row.cweID) && occursin(pattern, row.cweID), df)\n",
    "cwe_counts = nrow(cwes)\n",
    "print(\"$cwe_counts / $counts\")"
   ]
  },
  {
   "cell_type": "code",
   "execution_count": null,
   "id": "f931f387-6ee1-4859-b6fe-7d066dd4951e",
   "metadata": {},
   "outputs": [],
   "source": []
  }
 ],
 "metadata": {
  "kernelspec": {
   "display_name": "Julia 1.10.0",
   "language": "julia",
   "name": "julia-1.10"
  },
  "language_info": {
   "file_extension": ".jl",
   "mimetype": "application/julia",
   "name": "julia",
   "version": "1.10.4"
  }
 },
 "nbformat": 4,
 "nbformat_minor": 5
}
