{
 "cells": [
  {
   "cell_type": "markdown",
   "id": "f86fe70f-7840-4a08-9f45-0b09ac54f6f7",
   "metadata": {},
   "source": [
    "# Analyze on LLM result from micros benchmarks\n",
    "\n",
    "## Init Datasets"
   ]
  },
  {
   "cell_type": "markdown",
   "id": "fba85f0e-3556-48c3-8a7c-4c8a2de372a7",
   "metadata": {},
   "source": [
    "## What do we want to get\n",
    "\n",
    "1. Overall CWE it found\n",
    "2. CWE Count\n",
    "3. CWE real exists\n",
    "4. Double check by other GPT again\n",
    "5. CWE exists in each repo\n",
    "6. Real CWE\n",
    "7. real CWE / CWE in each repo"
   ]
  },
  {
   "cell_type": "code",
   "execution_count": 5,
   "id": "1446f438-2092-4262-9799-8694859f11dd",
   "metadata": {},
   "outputs": [],
   "source": [
    ":dep plotters = { version = \"0.3\", default_features = false, features = [\"evcxr\", \"all_series\"] }\n",
    ":dep polars = { version = \"0.41.3\", features = [\"serde\",\"serde-lazy\",\"lazy\",\"simd\",\"avx512\",\"performant\",\"temporal\",\"json\",\"strings\",\"regex\",\"rows\",\"pivot\"] }\n",
    ":dep mimalloc = { version = \"0.1.43\" }\n",
    ":dep anyhow = { version = \"1.0.86\", features = [\"backtrace\"] }\n",
    ":dep serde = { version = \"1.0.203\", features = [\"derive\"] }\n",
    ":dep serde_json = { version = \"1.0.120\" }\n",
    ":dep rayon = \"1.10.0\"\n",
    ":dep regex = \"1.10.5\""
   ]
  },
  {
   "cell_type": "code",
   "execution_count": 15,
   "id": "30c72b76-5860-4335-86f4-e9cd156c3b4d",
   "metadata": {},
   "outputs": [],
   "source": [
    "use pivot::pivot;\n",
    "use polars::{lazy::dsl::col, prelude::*};\n",
    "use std::{fs::File, path::Path};\n",
    "\n",
    "fn init() -> anyhow::Result<DataFrame> {\n",
    "    let path = \"../micros.3.log\";\n",
    "    let file = File::open(path)?;\n",
    "    let fields = [\n",
    "        Field::new(\"cweID\", DataType::String),\n",
    "        Field::new(\"fileName\", DataType::String),\n",
    "        Field::new(\"codeWithIssue\", DataType::String),\n",
    "        Field::new(\"time\", DataType::String),\n",
    "        Field::new(\"content\", DataType::String),\n",
    "        Field::new(\"msg\", DataType::String),\n",
    "        Field::new(\"path\", DataType::String),\n",
    "        Field::new(\"level\", DataType::Int64),\n",
    "        Field::new(\"time\", DataType::Int64),\n",
    "        Field::new(\"hostname\", DataType::String),\n",
    "        Field::new(\"pir\", DataType::Int64),\n",
    "    ];\n",
    "    let schema = Schema::from_iter(fields.into_iter());\n",
    "    let df: DataFrame = JsonLineReader::new(file)\n",
    "        .with_schema(Arc::new(schema))\n",
    "        .finish()?;\n",
    "    let df = df\n",
    "        .lazy()\n",
    "        .filter(col(\"cweID\").is_not_null())\n",
    "        .with_column(\n",
    "            col(\"cweID\")\n",
    "                .str()\n",
    "                .extract(lit(r\"(CWE-\\d+)\"), 1)\n",
    "                .alias(\"cwe_id\"),\n",
    "        )\n",
    "        .with_column(\n",
    "            col(\"fileName\")\n",
    "                .str()\n",
    "                .extract(lit(r\"micros/([^/]+)/\"), 1)\n",
    "                .alias(\"repo\"),\n",
    "        )\n",
    "        .collect()?\n",
    "        .select([\"cwe_id\", \"repo\", \"fileName\", \"codeWithIssue\"])?;\n",
    "    Ok(df)\n",
    "}"
   ]
  },
  {
   "cell_type": "code",
   "execution_count": 16,
   "id": "068c51fe-5f5e-4220-9fd8-6c2097fdff6b",
   "metadata": {},
   "outputs": [],
   "source": [
    "let df = init().unwrap();\n",
    "let overall_files = df.height();"
   ]
  },
  {
   "cell_type": "code",
   "execution_count": 17,
   "id": "ddacffda-7089-45e9-a02e-1842258ff69b",
   "metadata": {},
   "outputs": [
    {
     "name": "stdout",
     "output_type": "stream",
     "text": [
      "8035 / 12138\n"
     ]
    }
   ],
   "source": [
    "let df = df\n",
    "    .lazy()\n",
    "    .filter(col(\"cwe_id\").str().contains(lit(\"CWE-\\\\d+\"), false))\n",
    "    .collect().unwrap();\n",
    "let cwes = df.height();\n",
    "println!(\"{} / {}\", cwes, overall_files);"
   ]
  },
  {
   "cell_type": "code",
   "execution_count": null,
   "id": "31f36386-278b-477a-837a-04b8a72eff09",
   "metadata": {},
   "outputs": [],
   "source": [
    "let df = df\n",
    "    .lazy()\n",
    "    .group_by([\"repo\"])\n",
    "    .agg([col(\"cwe_id\")\n",
    "        .value_counts(true, false, \"cwe_id_occur\".to_owned(), false)\n",
    "        .alias(\"cwe_id_occur\")])\n",
    "    .explode([\"cwe_id_occur\"])\n",
    "    .unnest([\"cwe_id_occur\"])\n",
    "    .collect().unwrap();\n",
    "let pivot_df = pivot(\n",
    "    &df,\n",
    "    [\"repo\"],\n",
    "    Some([\"cwe_id\"]),\n",
    "    Some([\"cwe_id_occur\"]),\n",
    "    true,\n",
    "    None,\n",
    "    None,\n",
    ")\n",
    ".unwrap()\n",
    ".fill_null(FillNullStrategy::Zero)\n",
    ".unwrap();\n"
   ]
  }
 ],
 "metadata": {
  "kernelspec": {
   "display_name": "Rust",
   "language": "rust",
   "name": "rust"
  },
  "language_info": {
   "codemirror_mode": "rust",
   "file_extension": ".rs",
   "mimetype": "text/rust",
   "name": "Rust",
   "pygment_lexer": "rust",
   "version": ""
  }
 },
 "nbformat": 4,
 "nbformat_minor": 5
}
