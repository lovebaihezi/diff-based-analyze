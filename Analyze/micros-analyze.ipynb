{
 "cells": [
  {
   "cell_type": "markdown",
   "id": "c35b5349-ce31-4890-ab47-5a4341959bd0",
   "metadata": {},
   "source": [
    "# Analyze on LLM result from micros benchmarks\n",
    "\n",
    "## Read each line of it "
   ]
  },
  {
   "cell_type": "code",
   "execution_count": 1,
   "id": "5ceec9bf-f783-4d5f-ba8f-b232b9319d7c",
   "metadata": {},
   "outputs": [
    {
     "ename": "LoadError",
     "evalue": "UndefVarError: `f` not defined",
     "output_type": "error",
     "traceback": [
      "UndefVarError: `f` not defined",
      "",
      "Stacktrace:",
      " [1] (::var\"#1#2\")(micros::IOStream)",
      "   @ Main ./In[1]:3",
      " [2] open(f::var\"#1#2\", args::String; kwargs::@Kwargs{})",
      "   @ Base ./io.jl:396",
      " [3] open(f::Function, args::String)",
      "   @ Base ./io.jl:393",
      " [4] top-level scope",
      "   @ In[1]:1"
     ]
    }
   ],
   "source": [
    "open(\"./micros.2.log\") do micros\n",
    "    while !eof(micros)\n",
    "        line = readline(micros)\n",
    "        println(line)\n",
    "    end\n",
    "end"
   ]
  },
  {
   "cell_type": "code",
   "execution_count": null,
   "id": "84aeec09-3078-48cc-916b-7a60b5073651",
   "metadata": {},
   "outputs": [],
   "source": []
  }
 ],
 "metadata": {
  "kernelspec": {
   "display_name": "Julia 1.10.4",
   "language": "julia",
   "name": "julia-1.10"
  },
  "language_info": {
   "file_extension": ".jl",
   "mimetype": "application/julia",
   "name": "julia",
   "version": "1.10.4"
  }
 },
 "nbformat": 4,
 "nbformat_minor": 5
}
